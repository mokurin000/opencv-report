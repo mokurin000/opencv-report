{
 "cells": [
  {
   "cell_type": "code",
   "execution_count": null,
   "id": "0c7aea80",
   "metadata": {},
   "outputs": [],
   "source": [
    "import numpy as np\n",
    "import matplotlib.pyplot as plt\n",
    "import cv2\n",
    "img1=cv2.imread(\"imgs/1.jpg\")\n",
    "img2=cv2.imread(\"imgs/2.jpg\")\n",
    "img3=cv2.imread(\"imgs/3.jpg\")\n",
    "img4=cv2.imread(\"imgs/4.jpg\")\n",
    "img5=cv2.imread(\"imgs/5.jpg\")\n",
    "def change(img):\n",
    "    img=cv2.resize(img,(580,670))\n",
    "    r=cv2.selectROI(img)\n",
    "    roi=img[int(r[1]):int(r[1]+r[3]),int(r[0]):int(r[0]+r[2])]\n",
    "    return roi\n",
    "Img1_o=cv2.resize(change(img1),(300,1500))\n",
    "Img2_o=cv2.resize(change(img2),(300,1500))\n",
    "Img3_o=cv2.resize(change(img3),(300,1500))\n",
    "Img4_o=cv2.resize(change(img4),(300,1500))\n",
    "Img5_o=cv2.resize(change(img5),(300,1500))\n",
    "Img_SUM_O=np.concatenate([Img1_o,Img2_o,Img3_o,Img4_o,Img5_o],axis=1)\n",
    "cv2.imshow(\"Img_SUM\",Img_SUM_O)\n",
    "cv2.waitKey(0)\n",
    "cv2.destroyAllWindows()\n",
    "Img_SUM_O=cv2.resize(Img_SUM_O,(2000,2000))\n",
    "Img_SUM_M=cv2.cvtColor(Img_SUM_O,cv2.COLOR_BGR2RGB)\n",
    "plt.figure(figsize=(20, 20))\n",
    "plt.subplot(1,1,1);plt.imshow(Img_SUM_M);plt.title(\"Img_SUM\")\n",
    "plt.show()"
   ]
  }
 ],
 "metadata": {
  "kernelspec": {
   "display_name": "opencv",
   "language": "python",
   "name": "python3"
  },
  "language_info": {
   "codemirror_mode": {
    "name": "ipython",
    "version": 3
   },
   "file_extension": ".py",
   "mimetype": "text/x-python",
   "name": "python",
   "nbconvert_exporter": "python",
   "pygments_lexer": "ipython3",
   "version": "3.12.8"
  }
 },
 "nbformat": 4,
 "nbformat_minor": 5
}
