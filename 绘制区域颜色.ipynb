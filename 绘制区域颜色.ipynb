{
 "cells": [
  {
   "cell_type": "code",
   "execution_count": null,
   "id": "5cf3a91e",
   "metadata": {},
   "outputs": [],
   "source": [
    "import matplotlib.pyplot as plt  \n",
    "import json  \n",
    "import numpy as np  \n",
    "  \n",
    "def display_labelme_image(json_file, image_path):  \n",
    "    with open(json_file, 'r') as f:  \n",
    "        data = json.load(f)  \n",
    "      \n",
    "    # 读取图像  \n",
    "    image = plt.imread(image_path)  \n",
    "    plt.imshow(image)  \n",
    "      \n",
    "    # 遍历所有的标注并显示它们  \n",
    "    for shape in data['shapes']:  \n",
    "        # 获取标注的详细信息  \n",
    "        label = shape['label']  \n",
    "        points = np.array(shape['points'])  \n",
    "          \n",
    "        # 绘制多边形（或其他形状）  \n",
    "        if len(points) > 3:  # 至少需要3个点来形成一个多边形  \n",
    "            plt.fill(points[:,0], points[:,1], label=label)  \n",
    "      \n",
    "    # 显示图例和图像  \n",
    "    plt.legend()  \n",
    "    plt.show()  \n",
    "  \n",
    "# 使用函数来显示图像和注释  \n",
    "for i in range(1, 6):\n",
    "    display_labelme_image(f'imgs/{i}.json', f'imgs/{i}.jpg')"
   ]
  }
 ],
 "metadata": {
  "kernelspec": {
   "display_name": "opencv",
   "language": "python",
   "name": "python3"
  },
  "language_info": {
   "codemirror_mode": {
    "name": "ipython",
    "version": 3
   },
   "file_extension": ".py",
   "mimetype": "text/x-python",
   "name": "python",
   "nbconvert_exporter": "python",
   "pygments_lexer": "ipython3",
   "version": "3.12.8"
  }
 },
 "nbformat": 4,
 "nbformat_minor": 5
}
