{
 "cells": [
  {
   "cell_type": "code",
   "execution_count": 2,
   "id": "76384cd8",
   "metadata": {},
   "outputs": [],
   "source": [
    "import cv2\n",
    "\n",
    "img = cv2.imread(\"imgs/1.jpg\")\n",
    "res = cv2.resize(img,(300,300))\n",
    "cv2.imshow(\"res\",res)\n",
    "\n",
    "img1 = cv2.imread(\"imgs/2.jpg\")\n",
    "res1 = cv2.resize(img1,(300,300))\n",
    "cv2.imshow(\"res1\",res1)\n",
    "\n",
    "img2 = cv2.imread(\"imgs/3.jpg\")\n",
    "res2 = cv2.resize(img2,(300,300))\n",
    "cv2.imshow(\"res2\",res2)\n",
    "\n",
    "img3 = cv2.imread(\"imgs/4.jpg\")\n",
    "res3 = cv2.resize(img3,(300,300))\n",
    "cv2.imshow(\"res3\",res3)\n",
    "\n",
    "img4 = cv2.imread(\"imgs/5.jpg\")\n",
    "res4 = cv2.resize(img4,(300,300))\n",
    "cv2.imshow(\"res4\",res4)\n",
    "\n",
    "cv2.waitKey(0)\n",
    "cv2.destroyAllWindows()"
   ]
  }
 ],
 "metadata": {
  "kernelspec": {
   "display_name": "opencv",
   "language": "python",
   "name": "python3"
  },
  "language_info": {
   "codemirror_mode": {
    "name": "ipython",
    "version": 3
   },
   "file_extension": ".py",
   "mimetype": "text/x-python",
   "name": "python",
   "nbconvert_exporter": "python",
   "pygments_lexer": "ipython3",
   "version": "3.12.8"
  }
 },
 "nbformat": 4,
 "nbformat_minor": 5
}
