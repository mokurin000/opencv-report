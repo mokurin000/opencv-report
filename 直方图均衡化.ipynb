{
 "cells": [
  {
   "cell_type": "code",
   "execution_count": null,
   "id": "ce52bbda",
   "metadata": {},
   "outputs": [],
   "source": [
    "import cv2\n",
    "import matplotlib.pyplot as plt\n",
    "img = cv2.imread(\"imgs/1.jpg\")\n",
    "plt.figure(figsize=(10,10))\n",
    "gray = cv2.cvtColor(img,cv2.COLOR_BGR2GRAY)\n",
    "dst = cv2.equalizeHist(gray)\n",
    "plt.subplot(121),plt.imshow(gray,cmap=\"gray\"),plt.title(\"orginal\")\n",
    "plt.subplot(122),plt.imshow(dst,cmap=\"gray\"),plt.title(\"equalizeHist\")\n",
    "\n",
    "img = cv2.imread(\"imgs/2.jpg\")\n",
    "plt.figure(figsize=(10,10))\n",
    "gray = cv2.cvtColor(img,cv2.COLOR_BGR2GRAY)\n",
    "dst = cv2.equalizeHist(gray)\n",
    "plt.subplot(121),plt.imshow(gray,cmap=\"gray\"),plt.title(\"orginal\")\n",
    "plt.subplot(122),plt.imshow(dst,cmap=\"gray\"),plt.title(\"equalizeHist\")\n",
    "\n",
    "img = cv2.imread(\"imgs/3.jpg\")\n",
    "plt.figure(figsize=(10,10))\n",
    "gray = cv2.cvtColor(img,cv2.COLOR_BGR2GRAY)\n",
    "dst = cv2.equalizeHist(gray)\n",
    "plt.subplot(121),plt.imshow(gray,cmap=\"gray\"),plt.title(\"orginal\")\n",
    "plt.subplot(122),plt.imshow(dst,cmap=\"gray\"),plt.title(\"equalizeHist\")\n",
    "\n",
    "img = cv2.imread(\"imgs/4.jpg\")\n",
    "plt.figure(figsize=(10,10))\n",
    "gray = cv2.cvtColor(img,cv2.COLOR_BGR2GRAY)\n",
    "dst = cv2.equalizeHist(gray)\n",
    "plt.subplot(121),plt.imshow(gray,cmap=\"gray\"),plt.title(\"orginal\")\n",
    "plt.subplot(122),plt.imshow(dst,cmap=\"gray\"),plt.title(\"equalizeHist\")\n",
    "\n",
    "img = cv2.imread(\"imgs/5.jpg\")\n",
    "plt.figure(figsize=(10,10))\n",
    "gray = cv2.cvtColor(img,cv2.COLOR_BGR2GRAY)\n",
    "dst = cv2.equalizeHist(gray)\n",
    "plt.subplot(121),plt.imshow(gray,cmap=\"gray\"),plt.title(\"orginal\")\n",
    "plt.subplot(122),plt.imshow(dst,cmap=\"gray\"),plt.title(\"equalizeHist\")\n",
    "\n",
    "plt.show()"
   ]
  }
 ],
 "metadata": {
  "kernelspec": {
   "display_name": "opencv",
   "language": "python",
   "name": "python3"
  },
  "language_info": {
   "codemirror_mode": {
    "name": "ipython",
    "version": 3
   },
   "file_extension": ".py",
   "mimetype": "text/x-python",
   "name": "python",
   "nbconvert_exporter": "python",
   "pygments_lexer": "ipython3",
   "version": "3.12.8"
  }
 },
 "nbformat": 4,
 "nbformat_minor": 5
}
