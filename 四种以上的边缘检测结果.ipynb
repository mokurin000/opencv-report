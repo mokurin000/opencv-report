{
 "cells": [
  {
   "cell_type": "code",
   "execution_count": null,
   "id": "a664ddbe-1a82-410d-9832-34326d59865d",
   "metadata": {},
   "outputs": [],
   "source": [
    "import os\n",
    "import cv2\n",
    "import numpy as np\n",
    "import matplotlib.pyplot as plt\n",
    "\n",
    "# 文件夹路径\n",
    "folder_path = \"face4\"\n",
    "\n",
    "# 获取文件夹下的所有图片文件名\n",
    "image_files = [f for f in os.listdir(folder_path) if os.path.isfile(os.path.join(folder_path, f))]\n",
    "\n",
    "# 创建一个适合的画布来显示边缘检测结果\n",
    "fig, axes = plt.subplots(len(image_files),5, figsize=(12, 3 * len(image_files)))\n",
    "\n",
    "for index, file in enumerate(image_files):\n",
    "    # 读取图片\n",
    "    image = cv2.imread(os.path.join(folder_path, file), cv2.IMREAD_GRAYSCALE)\n",
    "\n",
    "    # 进行边缘检测\n",
    "    edges_canny = cv2.Canny(image, 100, 200)\n",
    "    edges_sobel_x = cv2.Sobel(image, cv2.CV_64F, 1, 0, ksize=3)\n",
    "    edges_sobel_y = cv2.Sobel(image, cv2.CV_64F, 0, 1, ksize=3)\n",
    "    edges_scharry = cv2.Scharr(image, cv2.CV_64F, 1, 0)\n",
    "    edges_scharr = cv2.Scharr(image, cv2.CV_64F, 1, 0)\n",
    "\n",
    "    # 显示边缘检测结果\n",
    "    axes[index, 0].imshow(image, cmap='gray')\n",
    "    axes[index, 0].set_title(f\"Original (File {index+1})\")\n",
    "    axes[index, 0].axis('off')\n",
    "\n",
    "    axes[index, 1].imshow(edges_canny, cmap='gray')\n",
    "    axes[index, 1].set_title(f\"Canny Edge Detection (File {index+1})\")\n",
    "    axes[index, 1].axis('off')\n",
    "\n",
    "    axes[index, 2].imshow(edges_sobel_x, cmap='gray', vmin=0, vmax=255)\n",
    "    axes[index, 2].set_title(f\"Sobel X (File {index+1})\")\n",
    "    axes[index, 2].axis('off')\n",
    "\n",
    "    axes[index, 3].imshow(edges_sobel_y, cmap='gray', vmin=0, vmax=255)\n",
    "    axes[index, 3].set_title(f\"Sobel Y (File {index+1})\")\n",
    "    axes[index, 3].axis('off')\n",
    "\n",
    "    axes[index, 4].imshow(edges_scharry, cmap='gray')\n",
    "    axes[index, 4].set_title(f\"edges_scharry (File {index+1})\")\n",
    "    axes[index, 4].axis('off')\n",
    "\n",
    "# 调整子图之间的间距\n",
    "plt.tight_layout()\n",
    "\n",
    "# 显示图像\n",
    "plt.show()"
   ]
  }
 ],
 "metadata": {
  "kernelspec": {
   "display_name": "opencv",
   "language": "python",
   "name": "python3"
  },
  "language_info": {
   "codemirror_mode": {
    "name": "ipython",
    "version": 3
   },
   "file_extension": ".py",
   "mimetype": "text/x-python",
   "name": "python",
   "nbconvert_exporter": "python",
   "pygments_lexer": "ipython3",
   "version": "3.12.8"
  }
 },
 "nbformat": 4,
 "nbformat_minor": 5
}
