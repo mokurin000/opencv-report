{
 "cells": [
  {
   "cell_type": "code",
   "execution_count": 5,
   "id": "2366a690",
   "metadata": {},
   "outputs": [],
   "source": [
    "import numpy as np\n",
    "import matplotlib.pyplot as plt\n",
    "import cv2\n",
    "\n",
    "img1=cv2.imread(\"imgs/1.jpg\")\n",
    "img2=cv2.imread(\"imgs/2.jpg\")\n",
    "img3=cv2.imread(\"imgs/3.jpg\")\n",
    "img4=cv2.imread(\"imgs/4.jpg\")\n",
    "img5=cv2.imread(\"imgs/5.jpg\")\n",
    "\n",
    "def warp(img,img_wid,img_hei,X,Y):\n",
    "    '''切片合并'''\n",
    "    img=cv2.resize(img,(580,670))\n",
    "    r=cv2.selectROI(img)\n",
    "    roi=img[int(r[1]):int(r[1]+r[3]),int(r[0]):int(r[0]+r[2])]\n",
    "    roi_r=cv2.resize(roi,(img_wid,img_hei))\n",
    "    rows,cols,channel=roi_r.shape\n",
    "    M=np.float32([[1,0,X],[0,1,Y]])\n",
    "    dst=cv2.warpAffine(roi_r,M,(4000,4000))\n",
    "    return dst"
   ]
  },
  {
   "cell_type": "code",
   "execution_count": 6,
   "id": "3f2e3636",
   "metadata": {},
   "outputs": [],
   "source": [
    "img=img2[1665:3637,5:2725]\n",
    "img_ba=cv2.resize(img,(4000,4000))"
   ]
  },
  {
   "cell_type": "code",
   "execution_count": 7,
   "id": "448661bd",
   "metadata": {},
   "outputs": [],
   "source": [
    "img1_w=warp(img1,500,1500,0,500)\n",
    "img2_w=warp(img3,500,1500,400,500)\n",
    "img3_w=warp(img4,500,1500,1200,500)\n",
    "img4_w=warp(img5,500,1500,1500,500)"
   ]
  },
  {
   "cell_type": "code",
   "execution_count": null,
   "id": "84e4453a",
   "metadata": {},
   "outputs": [],
   "source": [
    "dst_sum=cv2.addWeighted(img_ba,1.0,img1_w,1.0,0)\n",
    "dst_sum=cv2.addWeighted(dst_sum,1.0,img2_w,0.8,0)\n",
    "dst_sum=cv2.addWeighted(dst_sum,1.0,img3_w,0.8,0)\n",
    "dst_sum=cv2.addWeighted(dst_sum,0.5,img4_w,1.0,0)\n",
    "\n",
    "dst_sum_O=cv2.resize(dst_sum,(1000,800))\n",
    "cv2.imshow(\"dst_sum\", dst_sum_O)\n",
    "cv2.waitKey()\n",
    "cv2.destroyAllWindows()\n",
    "\n",
    "img_ba_M=cv2.cvtColor(img_ba,cv2.COLOR_BGR2RGB)\n",
    "img1_w_M=cv2.cvtColor(img1_w,cv2.COLOR_BGR2RGB)\n",
    "img2_w_M=cv2.cvtColor(img2_w,cv2.COLOR_BGR2RGB)\n",
    "img3_w_M=cv2.cvtColor(img3_w,cv2.COLOR_BGR2RGB)\n",
    "img4_w_M=cv2.cvtColor(img4_w,cv2.COLOR_BGR2RGB)\n",
    "dst_sum_M=cv2.cvtColor(dst_sum,cv2.COLOR_BGR2RGB)\n",
    "\n",
    "plt.figure(figsize=(20, 15))\n",
    "plt.subplot(231);plt.imshow(img_ba_M);plt.title(\"img_ba\")\n",
    "plt.subplot(232);plt.imshow(img1_w_M);plt.title(\"img1_w\")\n",
    "plt.subplot(233);plt.imshow(img2_w_M);plt.title(\"img2_w\")\n",
    "plt.subplot(234);plt.imshow(img3_w_M);plt.title(\"img3_w\")\n",
    "plt.subplot(235);plt.imshow(img4_w_M);plt.title(\"img4_w\")\n",
    "plt.subplot(236);plt.imshow(dst_sum_M);plt.title(\"dst_sum\")\n",
    "plt.show()"
   ]
  }
 ],
 "metadata": {
  "kernelspec": {
   "display_name": "opencv",
   "language": "python",
   "name": "python3"
  },
  "language_info": {
   "codemirror_mode": {
    "name": "ipython",
    "version": 3
   },
   "file_extension": ".py",
   "mimetype": "text/x-python",
   "name": "python",
   "nbconvert_exporter": "python",
   "pygments_lexer": "ipython3",
   "version": "3.12.8"
  }
 },
 "nbformat": 4,
 "nbformat_minor": 5
}
