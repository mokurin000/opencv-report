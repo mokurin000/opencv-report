{
 "cells": [
  {
   "cell_type": "code",
   "execution_count": null,
   "id": "0d0c515c",
   "metadata": {},
   "outputs": [],
   "source": [
    "import matplotlib.pyplot as plt\n",
    "plt.figure(figsize=(15,15))\n",
    "plt.subplot(331)\n",
    "dark = plt.imread(\"imgs/1.jpg\")\n",
    "plt.imshow(dark)\n",
    "plt.subplot(332)\n",
    "dog = plt.imread(\"imgs/2.jpg\")\n",
    "plt.imshow(dog)\n",
    "plt.subplot(333)\n",
    "monkey = plt.imread(\"imgs/3.jpg\")\n",
    "plt.imshow(monkey)\n",
    "plt.subplot(334)\n",
    "panda = plt.imread(\"imgs/4.jpg\")\n",
    "plt.imshow(panda)\n",
    "plt.subplot(335)\n",
    "rabbit = plt.imread(\"imgs/5.jpg\")\n",
    "plt.imshow(rabbit)"
   ]
  }
 ],
 "metadata": {
  "kernelspec": {
   "display_name": "opencv",
   "language": "python",
   "name": "python3"
  },
  "language_info": {
   "codemirror_mode": {
    "name": "ipython",
    "version": 3
   },
   "file_extension": ".py",
   "mimetype": "text/x-python",
   "name": "python",
   "nbconvert_exporter": "python",
   "pygments_lexer": "ipython3",
   "version": "3.12.8"
  }
 },
 "nbformat": 4,
 "nbformat_minor": 5
}
