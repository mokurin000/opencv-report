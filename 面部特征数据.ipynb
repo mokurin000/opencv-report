{
 "cells": [
  {
   "cell_type": "code",
   "execution_count": null,
   "id": "8ae659bd-4773-4daf-8370-954d68f7c02d",
   "metadata": {},
   "outputs": [],
   "source": [
    "import os\n",
    "import cv2\n",
    "import dlib\n",
    "import numpy as np\n",
    "import matplotlib.pyplot as plt\n",
    "\n",
    "# 人脸检测器\n",
    "detector = dlib.get_frontal_face_detector()\n",
    "\n",
    "# 面部特征提取器\n",
    "predictor = dlib.shape_predictor(\"shape_predictor_68_face_landmarks.dat\")\n",
    "\n",
    "# 文件夹路径\n",
    "folder_path = \"face4\"\n",
    "\n",
    "# 获取文件夹下的所有图片文件名\n",
    "image_files = [f for f in os.listdir(folder_path) if os.path.isfile(os.path.join(folder_path, f))]\n",
    "\n",
    "for file in image_files:\n",
    "    # 读取图片\n",
    "    image = cv2.imread(os.path.join(folder_path, file))\n",
    "\n",
    "    # # 转换为灰度图像\n",
    "    gray = cv2.cvtColor(image, cv2.COLOR_BGR2GRAY)\n",
    "\n",
    "    # 检测人脸\n",
    "    faces = detector(gray)\n",
    "\n",
    "    for face in faces:\n",
    "        # 提取面部特征\n",
    "        landmarks = predictor(gray, face)\n",
    "\n",
    "        # 绘制面部特征点\n",
    "        for n in range(0, 68):\n",
    "            x = landmarks.part(n).x\n",
    "            y = landmarks.part(n).y\n",
    "            cv2.circle(image, (x, y), 2, (0, 255, 0), -1)\n",
    "\n",
    "    # 显示带有面部特征点的图片\n",
    "    plt.figure()\n",
    "    plt.imshow(cv2.cvtColor(image, cv2.COLOR_BGR2RGB))\n",
    "    plt.title(\"Facial Landmarks\")\n",
    "    plt.show()"
   ]
  }
 ],
 "metadata": {
  "kernelspec": {
   "display_name": "opencv",
   "language": "python",
   "name": "python3"
  },
  "language_info": {
   "codemirror_mode": {
    "name": "ipython",
    "version": 3
   },
   "file_extension": ".py",
   "mimetype": "text/x-python",
   "name": "python",
   "nbconvert_exporter": "python",
   "pygments_lexer": "ipython3",
   "version": "3.12.8"
  }
 },
 "nbformat": 4,
 "nbformat_minor": 5
}
