{
 "cells": [
  {
   "cell_type": "code",
   "execution_count": null,
   "id": "cc0ae392",
   "metadata": {},
   "outputs": [],
   "source": [
    "import cv2\n",
    "from matplotlib import pyplot as plt\n",
    "img = cv2.imread(\"imgs/1.jpg\")\n",
    "img_rgb = cv2.cvtColor(img,cv2.COLOR_BGR2RGB)\n",
    "img_gray = cv2.cvtColor(img,cv2.COLOR_BGR2GRAY)\n",
    "plt.subplot(121),plt.imshow(img_rgb)\n",
    "plt.subplot(122),plt.imshow(img_gray,cmap=\"gray\")\n",
    "plt.show()\n",
    "\n",
    "img = cv2.imread(\"imgs/2.jpg\")\n",
    "img_rgb = cv2.cvtColor(img,cv2.COLOR_BGR2RGB)\n",
    "img_gray = cv2.cvtColor(img,cv2.COLOR_BGR2GRAY)\n",
    "plt.subplot(121),plt.imshow(img_rgb)\n",
    "plt.subplot(122),plt.imshow(img_gray,cmap=\"gray\")\n",
    "plt.show()\n",
    "\n",
    "\n",
    "img = cv2.imread(\"imgs/3.jpg\")\n",
    "img_rgb = cv2.cvtColor(img,cv2.COLOR_BGR2RGB)\n",
    "img_gray = cv2.cvtColor(img,cv2.COLOR_BGR2GRAY)\n",
    "plt.subplot(121),plt.imshow(img_rgb)\n",
    "plt.subplot(122),plt.imshow(img_gray,cmap=\"gray\")\n",
    "plt.show()\n",
    "\n",
    "img = cv2.imread(\"imgs/4.jpg\")\n",
    "img_rgb = cv2.cvtColor(img,cv2.COLOR_BGR2RGB)\n",
    "img_gray = cv2.cvtColor(img,cv2.COLOR_BGR2GRAY)\n",
    "plt.subplot(121),plt.imshow(img_rgb)\n",
    "plt.subplot(122),plt.imshow(img_gray,cmap=\"gray\")\n",
    "plt.show()\n",
    "\n",
    "img = cv2.imread(\"imgs/5.jpg\")\n",
    "img_rgb = cv2.cvtColor(img,cv2.COLOR_BGR2RGB)\n",
    "img_gray = cv2.cvtColor(img,cv2.COLOR_BGR2GRAY)\n",
    "plt.subplot(121),plt.imshow(img_rgb)\n",
    "plt.subplot(122),plt.imshow(img_gray,cmap=\"gray\")\n",
    "plt.show()"
   ]
  }
 ],
 "metadata": {
  "kernelspec": {
   "display_name": "opencv",
   "language": "python",
   "name": "python3"
  },
  "language_info": {
   "codemirror_mode": {
    "name": "ipython",
    "version": 3
   },
   "file_extension": ".py",
   "mimetype": "text/x-python",
   "name": "python",
   "nbconvert_exporter": "python",
   "pygments_lexer": "ipython3",
   "version": "3.12.8"
  }
 },
 "nbformat": 4,
 "nbformat_minor": 5
}
