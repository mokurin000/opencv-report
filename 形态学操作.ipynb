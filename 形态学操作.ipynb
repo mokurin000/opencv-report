{
 "cells": [
  {
   "cell_type": "code",
   "execution_count": null,
   "id": "9c9e3934-985f-44f9-a1c6-fce86c62be79",
   "metadata": {},
   "outputs": [],
   "source": [
    "import os\n",
    "import cv2\n",
    "import numpy as np\n",
    "import matplotlib.pyplot as plt\n",
    "\n",
    "# 文件夹路径\n",
    "folder_path = \"face4\"\n",
    "\n",
    "# 获取文件夹下的所有图片文件名\n",
    "image_files = [f for f in os.listdir(folder_path) if os.path.isfile(os.path.join(folder_path, f))]\n",
    "\n",
    "for file in image_files:\n",
    "    # 读取图片\n",
    "    image = cv2.imread(os.path.join(folder_path, file))\n",
    "\n",
    "    # 转换为灰度图像\n",
    "    gray = cv2.cvtColor(image, cv2.COLOR_BGR2GRAY)\n",
    "\n",
    "    # 对灰度图应用形态学操作\n",
    "    kernel = np.ones((5, 5), np.uint8)\n",
    "    \n",
    "    closing = cv2.morphologyEx(gray, cv2.MORPH_CLOSE, kernel)\n",
    "    tophat = cv2.morphologyEx(gray, cv2.MORPH_TOPHAT, kernel)\n",
    "    blackhat = cv2.morphologyEx(gray, cv2.MORPH_BLACKHAT, kernel)\n",
    "    gradient = cv2.morphologyEx(gray, cv2.MORPH_GRADIENT, kernel)\n",
    "    # 显示原始图像和形态学操作的结果\n",
    "    plt.figure()\n",
    "    plt.subplot(1, 5, 1)\n",
    "    plt.imshow(cv2.cvtColor(image, cv2.COLOR_BGR2RGB))\n",
    "    plt.title(\"Original\")\n",
    "\n",
    "    plt.subplot(1, 5, 2)\n",
    "    plt.imshow(closing, cmap='gray')\n",
    "    plt.title(\"closing\")\n",
    "\n",
    "    plt.subplot(1, 5, 3)\n",
    "    plt.imshow(tophat, cmap='gray')\n",
    "    plt.title(\"tophat\")\n",
    "\n",
    "    plt.subplot(1, 5, 4)\n",
    "    plt.imshow(blackhat, cmap='gray')\n",
    "    plt.title(\"blackhat\")\n",
    "\n",
    "    plt.subplot(1, 5, 5)\n",
    "    plt.imshow(gradient, cmap='gray')\n",
    "    plt.title(\"gradient\")\n",
    "\n",
    "    plt.show()"
   ]
  }
 ],
 "metadata": {
  "kernelspec": {
   "display_name": "opencv",
   "language": "python",
   "name": "python3"
  },
  "language_info": {
   "codemirror_mode": {
    "name": "ipython",
    "version": 3
   },
   "file_extension": ".py",
   "mimetype": "text/x-python",
   "name": "python",
   "nbconvert_exporter": "python",
   "pygments_lexer": "ipython3",
   "version": "3.12.8"
  }
 },
 "nbformat": 4,
 "nbformat_minor": 5
}
